{
 "cells": [
  {
   "cell_type": "code",
   "execution_count": 1,
   "metadata": {
    "collapsed": true
   },
   "outputs": [],
   "source": [
    "import os\n",
    "\n",
    "import pandas as pd"
   ]
  },
  {
   "cell_type": "code",
   "execution_count": 2,
   "metadata": {
    "collapsed": true
   },
   "outputs": [],
   "source": [
    "def parse_order(x):\n",
    "    series = pd.Series()\n",
    "\n",
    "    series['products'] = '_'.join(x['product_id'].values.astype(str).tolist())\n",
    "    series['reorders'] = '_'.join(x['reordered'].values.astype(str).tolist())\n",
    "    series['aisles'] = '_'.join(x['aisle_id'].values.astype(str).tolist())\n",
    "    series['departments'] = '_'.join(x['department_id'].values.astype(str).tolist())\n",
    "\n",
    "    series['order_number'] = x['order_number'].iloc[0]\n",
    "    series['order_dow'] = x['order_dow'].iloc[0]\n",
    "    series['order_hour'] = x['order_hour_of_day'].iloc[0]\n",
    "    series['days_since_prior_order'] = x['days_since_prior_order'].iloc[0]\n",
    "\n",
    "    return series"
   ]
  },
  {
   "cell_type": "code",
   "execution_count": 4,
   "metadata": {
    "collapsed": false
   },
   "outputs": [],
   "source": [
    "def parse_user(x):\n",
    "    parsed_orders = x.groupby('order_id', sort=False).apply(parse_order)\n",
    "\n",
    "    series = pd.Series()\n",
    "\n",
    "    series['order_ids'] = ' '.join(parsed_orders.index.map(str).tolist())\n",
    "    series['order_numbers'] = ' '.join(parsed_orders['order_number'].map(str).tolist())\n",
    "    series['order_dows'] = ' '.join(parsed_orders['order_dow'].map(str).tolist())\n",
    "    series['order_hours'] = ' '.join(parsed_orders['order_hour'].map(str).tolist())\n",
    "    series['days_since_prior_orders'] = ' '.join(parsed_orders['days_since_prior_order'].map(str).tolist())\n",
    "\n",
    "    series['product_ids'] = ' '.join(parsed_orders['products'].values.astype(str).tolist())\n",
    "    series['aisle_ids'] = ' '.join(parsed_orders['aisles'].values.astype(str).tolist())\n",
    "    series['department_ids'] = ' '.join(parsed_orders['departments'].values.astype(str).tolist())\n",
    "    series['reorders'] = ' '.join(parsed_orders['reorders'].values.astype(str).tolist())\n",
    "\n",
    "    series['eval_set'] = x['eval_set'].values[-1]\n",
    "\n",
    "    return series"
   ]
  },
  {
   "cell_type": "code",
   "execution_count": 5,
   "metadata": {
    "collapsed": true
   },
   "outputs": [],
   "source": [
    "orders = pd.read_csv('../data/raw/orders.csv')\n",
    "prior_products = pd.read_csv('../data/raw/order_products__prior.csv')\n",
    "train_products = pd.read_csv('../data/raw/order_products__train.csv')\n",
    "order_products = pd.concat([prior_products, train_products], axis=0)\n",
    "products = pd.read_csv('../data/raw/products.csv')"
   ]
  },
  {
   "cell_type": "code",
   "execution_count": 6,
   "metadata": {
    "collapsed": false
   },
   "outputs": [
    {
     "data": {
      "text/html": [
       "<div>\n",
       "<style>\n",
       "    .dataframe thead tr:only-child th {\n",
       "        text-align: right;\n",
       "    }\n",
       "\n",
       "    .dataframe thead th {\n",
       "        text-align: left;\n",
       "    }\n",
       "\n",
       "    .dataframe tbody tr th {\n",
       "        vertical-align: top;\n",
       "    }\n",
       "</style>\n",
       "<table border=\"1\" class=\"dataframe\">\n",
       "  <thead>\n",
       "    <tr style=\"text-align: right;\">\n",
       "      <th></th>\n",
       "      <th>order_id</th>\n",
       "      <th>user_id</th>\n",
       "      <th>eval_set</th>\n",
       "      <th>order_number</th>\n",
       "      <th>order_dow</th>\n",
       "      <th>order_hour_of_day</th>\n",
       "      <th>days_since_prior_order</th>\n",
       "    </tr>\n",
       "  </thead>\n",
       "  <tbody>\n",
       "    <tr>\n",
       "      <th>0</th>\n",
       "      <td>2717275</td>\n",
       "      <td>5</td>\n",
       "      <td>prior</td>\n",
       "      <td>1</td>\n",
       "      <td>3</td>\n",
       "      <td>12</td>\n",
       "      <td>NaN</td>\n",
       "    </tr>\n",
       "    <tr>\n",
       "      <th>1</th>\n",
       "      <td>1909121</td>\n",
       "      <td>5</td>\n",
       "      <td>prior</td>\n",
       "      <td>2</td>\n",
       "      <td>0</td>\n",
       "      <td>16</td>\n",
       "      <td>11.0</td>\n",
       "    </tr>\n",
       "    <tr>\n",
       "      <th>2</th>\n",
       "      <td>2267326</td>\n",
       "      <td>5</td>\n",
       "      <td>prior</td>\n",
       "      <td>3</td>\n",
       "      <td>3</td>\n",
       "      <td>18</td>\n",
       "      <td>10.0</td>\n",
       "    </tr>\n",
       "    <tr>\n",
       "      <th>3</th>\n",
       "      <td>157374</td>\n",
       "      <td>5</td>\n",
       "      <td>prior</td>\n",
       "      <td>4</td>\n",
       "      <td>1</td>\n",
       "      <td>18</td>\n",
       "      <td>19.0</td>\n",
       "    </tr>\n",
       "    <tr>\n",
       "      <th>4</th>\n",
       "      <td>2196797</td>\n",
       "      <td>5</td>\n",
       "      <td>train</td>\n",
       "      <td>5</td>\n",
       "      <td>0</td>\n",
       "      <td>11</td>\n",
       "      <td>6.0</td>\n",
       "    </tr>\n",
       "  </tbody>\n",
       "</table>\n",
       "</div>"
      ],
      "text/plain": [
       "   order_id  user_id eval_set  order_number  order_dow  order_hour_of_day  \\\n",
       "0   2717275        5    prior             1          3                 12   \n",
       "1   1909121        5    prior             2          0                 16   \n",
       "2   2267326        5    prior             3          3                 18   \n",
       "3    157374        5    prior             4          1                 18   \n",
       "4   2196797        5    train             5          0                 11   \n",
       "\n",
       "   days_since_prior_order  \n",
       "0                     NaN  \n",
       "1                    11.0  \n",
       "2                    10.0  \n",
       "3                    19.0  \n",
       "4                     6.0  "
      ]
     },
     "execution_count": 6,
     "metadata": {},
     "output_type": "execute_result"
    }
   ],
   "source": [
    "orders.head()"
   ]
  },
  {
   "cell_type": "code",
   "execution_count": 7,
   "metadata": {
    "collapsed": false
   },
   "outputs": [
    {
     "data": {
      "text/html": [
       "<div>\n",
       "<style>\n",
       "    .dataframe thead tr:only-child th {\n",
       "        text-align: right;\n",
       "    }\n",
       "\n",
       "    .dataframe thead th {\n",
       "        text-align: left;\n",
       "    }\n",
       "\n",
       "    .dataframe tbody tr th {\n",
       "        vertical-align: top;\n",
       "    }\n",
       "</style>\n",
       "<table border=\"1\" class=\"dataframe\">\n",
       "  <thead>\n",
       "    <tr style=\"text-align: right;\">\n",
       "      <th></th>\n",
       "      <th>order_id</th>\n",
       "      <th>product_id</th>\n",
       "      <th>add_to_cart_order</th>\n",
       "      <th>reordered</th>\n",
       "    </tr>\n",
       "  </thead>\n",
       "  <tbody>\n",
       "    <tr>\n",
       "      <th>0</th>\n",
       "      <td>45</td>\n",
       "      <td>16349</td>\n",
       "      <td>1</td>\n",
       "      <td>1</td>\n",
       "    </tr>\n",
       "    <tr>\n",
       "      <th>1</th>\n",
       "      <td>53</td>\n",
       "      <td>24852</td>\n",
       "      <td>1</td>\n",
       "      <td>1</td>\n",
       "    </tr>\n",
       "    <tr>\n",
       "      <th>2</th>\n",
       "      <td>53</td>\n",
       "      <td>37646</td>\n",
       "      <td>2</td>\n",
       "      <td>1</td>\n",
       "    </tr>\n",
       "    <tr>\n",
       "      <th>3</th>\n",
       "      <td>53</td>\n",
       "      <td>47209</td>\n",
       "      <td>3</td>\n",
       "      <td>1</td>\n",
       "    </tr>\n",
       "    <tr>\n",
       "      <th>4</th>\n",
       "      <td>53</td>\n",
       "      <td>36606</td>\n",
       "      <td>4</td>\n",
       "      <td>0</td>\n",
       "    </tr>\n",
       "  </tbody>\n",
       "</table>\n",
       "</div>"
      ],
      "text/plain": [
       "   order_id  product_id  add_to_cart_order  reordered\n",
       "0        45       16349                  1          1\n",
       "1        53       24852                  1          1\n",
       "2        53       37646                  2          1\n",
       "3        53       47209                  3          1\n",
       "4        53       36606                  4          0"
      ]
     },
     "execution_count": 7,
     "metadata": {},
     "output_type": "execute_result"
    }
   ],
   "source": [
    "order_products.head()"
   ]
  },
  {
   "cell_type": "code",
   "execution_count": 9,
   "metadata": {
    "collapsed": true
   },
   "outputs": [],
   "source": [
    "df = orders.merge(order_products, how='left', on='order_id')"
   ]
  },
  {
   "cell_type": "code",
   "execution_count": 10,
   "metadata": {
    "collapsed": true
   },
   "outputs": [],
   "source": [
    "df = df.merge(products, how='left', on='product_id')"
   ]
  },
  {
   "cell_type": "code",
   "execution_count": 11,
   "metadata": {
    "collapsed": true
   },
   "outputs": [],
   "source": [
    "df['days_since_prior_order'] = df['days_since_prior_order'].fillna(0).astype(int)"
   ]
  },
  {
   "cell_type": "code",
   "execution_count": 19,
   "metadata": {
    "collapsed": false
   },
   "outputs": [
    {
     "data": {
      "text/plain": [
       "order_id                     0\n",
       "user_id                      0\n",
       "eval_set                     0\n",
       "order_number                 0\n",
       "order_dow                    0\n",
       "order_hour_of_day            0\n",
       "days_since_prior_order       0\n",
       "product_id                7500\n",
       "add_to_cart_order         7500\n",
       "reordered                 7500\n",
       "product_name              7500\n",
       "aisle_id                  7500\n",
       "department_id             7500\n",
       "dtype: int64"
      ]
     },
     "execution_count": 19,
     "metadata": {},
     "output_type": "execute_result"
    }
   ],
   "source": [
    "df.isnull().sum()"
   ]
  },
  {
   "cell_type": "code",
   "execution_count": 20,
   "metadata": {
    "collapsed": true
   },
   "outputs": [],
   "source": [
    "null_cols = ['product_id', 'aisle_id', 'department_id', 'add_to_cart_order', 'reordered']"
   ]
  },
  {
   "cell_type": "code",
   "execution_count": 21,
   "metadata": {
    "collapsed": true
   },
   "outputs": [],
   "source": [
    "df[null_cols] = df[null_cols].fillna(0).astype(int)"
   ]
  },
  {
   "cell_type": "code",
   "execution_count": 22,
   "metadata": {
    "collapsed": true
   },
   "outputs": [],
   "source": [
    "if not os.path.isdir('../data/processed'):\n",
    "        os.makedirs('../data/processed')"
   ]
  },
  {
   "cell_type": "code",
   "execution_count": 23,
   "metadata": {
    "collapsed": true
   },
   "outputs": [],
   "source": [
    "user_data = df.groupby('user_id', sort=False).apply(parse_user).reset_index()"
   ]
  },
  {
   "cell_type": "code",
   "execution_count": 24,
   "metadata": {
    "collapsed": false
   },
   "outputs": [
    {
     "data": {
      "text/plain": [
       "pandas.core.frame.DataFrame"
      ]
     },
     "execution_count": 24,
     "metadata": {},
     "output_type": "execute_result"
    }
   ],
   "source": [
    "type(user_data)"
   ]
  },
  {
   "cell_type": "code",
   "execution_count": 26,
   "metadata": {
    "collapsed": false
   },
   "outputs": [
    {
     "data": {
      "text/plain": [
       "(20621, 11)"
      ]
     },
     "execution_count": 26,
     "metadata": {},
     "output_type": "execute_result"
    }
   ],
   "source": [
    "user_data.shape"
   ]
  },
  {
   "cell_type": "code",
   "execution_count": 25,
   "metadata": {
    "collapsed": false
   },
   "outputs": [
    {
     "data": {
      "text/html": [
       "<div>\n",
       "<style>\n",
       "    .dataframe thead tr:only-child th {\n",
       "        text-align: right;\n",
       "    }\n",
       "\n",
       "    .dataframe thead th {\n",
       "        text-align: left;\n",
       "    }\n",
       "\n",
       "    .dataframe tbody tr th {\n",
       "        vertical-align: top;\n",
       "    }\n",
       "</style>\n",
       "<table border=\"1\" class=\"dataframe\">\n",
       "  <thead>\n",
       "    <tr style=\"text-align: right;\">\n",
       "      <th></th>\n",
       "      <th>user_id</th>\n",
       "      <th>order_ids</th>\n",
       "      <th>order_numbers</th>\n",
       "      <th>order_dows</th>\n",
       "      <th>order_hours</th>\n",
       "      <th>days_since_prior_orders</th>\n",
       "      <th>product_ids</th>\n",
       "      <th>aisle_ids</th>\n",
       "      <th>department_ids</th>\n",
       "      <th>reorders</th>\n",
       "      <th>eval_set</th>\n",
       "    </tr>\n",
       "  </thead>\n",
       "  <tbody>\n",
       "    <tr>\n",
       "      <th>0</th>\n",
       "      <td>5</td>\n",
       "      <td>2717275 1909121 2267326 157374 2196797</td>\n",
       "      <td>1 2 3 4 5</td>\n",
       "      <td>3 0 3 1 0</td>\n",
       "      <td>12 16 18 18 11</td>\n",
       "      <td>0 11 10 19 6</td>\n",
       "      <td>15349_21413_48775_28289_8518_11777_31717_26604...</td>\n",
       "      <td>29_66_83_123_83_123_16_24_84_83_120 84_12_120_...</td>\n",
       "      <td>13_6_4_4_4_4_4_4_16_4_16 16_9_16_4_4_13_4_19_4...</td>\n",
       "      <td>0_0_0_0_0_0_0_0_0_0_0 1_0_1_1_0_0_1_0_0 1_1_0_...</td>\n",
       "      <td>train</td>\n",
       "    </tr>\n",
       "    <tr>\n",
       "      <th>1</th>\n",
       "      <td>42</td>\n",
       "      <td>940313 1816335 19190 77399 2848715 1560102 232...</td>\n",
       "      <td>1 2 3 4 5 6 7 8 9 10 11 12 13 14 15 16 17</td>\n",
       "      <td>2 1 1 1 2 1 3 0 3 5 3 2 4 5 0 0 0</td>\n",
       "      <td>10 15 19 9 18 19 13 10 19 1 18 13 12 16 15 13 11</td>\n",
       "      <td>0 6 7 7 8 13 9 11 24 9 19 20 9 22 30 14 14</td>\n",
       "      <td>9185_24098_32599_2627_34594 24098_43693_79_184...</td>\n",
       "      <td>126_90_11_133_84 90_84_95_112_21_130_72_31_31 ...</td>\n",
       "      <td>11_7_11_11_16 7_16_15_3_16_14_13_7_7 15_1_1_1_...</td>\n",
       "      <td>0_0_0_0_0 1_0_0_0_0_0_0_0_0 1_0_0_0_0_0 1_1_1_...</td>\n",
       "      <td>train</td>\n",
       "    </tr>\n",
       "    <tr>\n",
       "      <th>2</th>\n",
       "      <td>52</td>\n",
       "      <td>2497897 1318871 1261384 2100631 580568 1680554...</td>\n",
       "      <td>1 2 3 4 5 6 7 8 9 10 11 12 13 14 15 16 17 18 1...</td>\n",
       "      <td>1 1 1 1 2 1 2 1 1 2 2 1 1 1 2 3 2 2 3 1 5 1 1 ...</td>\n",
       "      <td>9 10 10 11 10 13 7 10 11 10 9 16 10 13 11 11 1...</td>\n",
       "      <td>0 7 7 7 8 6 8 6 7 8 7 6 7 7 8 8 6 14 8 5 30 10...</td>\n",
       "      <td>12341_14444_10441_196_46149_35561 12341_6184_1...</td>\n",
       "      <td>32_117_117_77_77_107 32_32_117_77_77_117 77_11...</td>\n",
       "      <td>4_19_19_7_7_19 4_4_19_7_7_19 7_19_7_4_9 4_19_1...</td>\n",
       "      <td>0_0_0_0_0_0 1_0_1_1_1_0 1_1_1_0_0 1_1_1_1_0_1_...</td>\n",
       "      <td>train</td>\n",
       "    </tr>\n",
       "    <tr>\n",
       "      <th>3</th>\n",
       "      <td>93</td>\n",
       "      <td>2319586 1144929 2482337 1154181 983132 2852868...</td>\n",
       "      <td>1 2 3 4 5 6 7 8 9 10 11 12 13 14 15</td>\n",
       "      <td>3 2 5 6 5 5 6 0 6 0 6 6 4 3 1</td>\n",
       "      <td>8 9 15 9 9 9 13 11 10 12 14 8 12 19 10</td>\n",
       "      <td>0 30 30 1 6 0 1 1 20 8 27 14 5 30 5</td>\n",
       "      <td>46585 48142_3389_31225 31225 31225 35458_17341...</td>\n",
       "      <td>30 77_77_43 43 43 93_93_112_43_58_112 45_45 10...</td>\n",
       "      <td>6 7_7_3 3 3 3_3_3_3_1_3 19_19 19 19 14_3_9_14 ...</td>\n",
       "      <td>0 0_0_0 1 1 0_0_0_1_0_0 0_0 0 1 0_1_0_0 0 0 0_...</td>\n",
       "      <td>train</td>\n",
       "    </tr>\n",
       "    <tr>\n",
       "      <th>4</th>\n",
       "      <td>99</td>\n",
       "      <td>2736359 465262 2872285 828701 2216860 1262038 ...</td>\n",
       "      <td>1 2 3 4 5 6 7 8 9 10 11 12 13 14 15 16 17 18 19</td>\n",
       "      <td>4 4 0 2 1 3 2 3 2 0 5 3 4 4 5 5 0 1 2</td>\n",
       "      <td>15 13 17 13 11 13 12 15 20 16 10 15 16 16 10 1...</td>\n",
       "      <td>0 14 24 23 13 23 13 29 30 12 26 12 15 21 8 7 2...</td>\n",
       "      <td>27845_23516_23726_23405_43920_32666_13802_4920...</td>\n",
       "      <td>84_17_17_17_17_17_36_123_117_117_19 24_123_26_...</td>\n",
       "      <td>16_13_13_13_13_13_16_4_19_19_13 4_4_7_15_4_19_...</td>\n",
       "      <td>0_0_0_0_0_0_0_0_0_0_0 0_1_0_0_0_0_0 1_1_1_0_0_...</td>\n",
       "      <td>train</td>\n",
       "    </tr>\n",
       "  </tbody>\n",
       "</table>\n",
       "</div>"
      ],
      "text/plain": [
       "   user_id                                          order_ids  \\\n",
       "0        5             2717275 1909121 2267326 157374 2196797   \n",
       "1       42  940313 1816335 19190 77399 2848715 1560102 232...   \n",
       "2       52  2497897 1318871 1261384 2100631 580568 1680554...   \n",
       "3       93  2319586 1144929 2482337 1154181 983132 2852868...   \n",
       "4       99  2736359 465262 2872285 828701 2216860 1262038 ...   \n",
       "\n",
       "                                       order_numbers  \\\n",
       "0                                          1 2 3 4 5   \n",
       "1          1 2 3 4 5 6 7 8 9 10 11 12 13 14 15 16 17   \n",
       "2  1 2 3 4 5 6 7 8 9 10 11 12 13 14 15 16 17 18 1...   \n",
       "3                1 2 3 4 5 6 7 8 9 10 11 12 13 14 15   \n",
       "4    1 2 3 4 5 6 7 8 9 10 11 12 13 14 15 16 17 18 19   \n",
       "\n",
       "                                          order_dows  \\\n",
       "0                                          3 0 3 1 0   \n",
       "1                  2 1 1 1 2 1 3 0 3 5 3 2 4 5 0 0 0   \n",
       "2  1 1 1 1 2 1 2 1 1 2 2 1 1 1 2 3 2 2 3 1 5 1 1 ...   \n",
       "3                      3 2 5 6 5 5 6 0 6 0 6 6 4 3 1   \n",
       "4              4 4 0 2 1 3 2 3 2 0 5 3 4 4 5 5 0 1 2   \n",
       "\n",
       "                                         order_hours  \\\n",
       "0                                     12 16 18 18 11   \n",
       "1   10 15 19 9 18 19 13 10 19 1 18 13 12 16 15 13 11   \n",
       "2  9 10 10 11 10 13 7 10 11 10 9 16 10 13 11 11 1...   \n",
       "3             8 9 15 9 9 9 13 11 10 12 14 8 12 19 10   \n",
       "4  15 13 17 13 11 13 12 15 20 16 10 15 16 16 10 1...   \n",
       "\n",
       "                             days_since_prior_orders  \\\n",
       "0                                       0 11 10 19 6   \n",
       "1         0 6 7 7 8 13 9 11 24 9 19 20 9 22 30 14 14   \n",
       "2  0 7 7 7 8 6 8 6 7 8 7 6 7 7 8 8 6 14 8 5 30 10...   \n",
       "3                0 30 30 1 6 0 1 1 20 8 27 14 5 30 5   \n",
       "4  0 14 24 23 13 23 13 29 30 12 26 12 15 21 8 7 2...   \n",
       "\n",
       "                                         product_ids  \\\n",
       "0  15349_21413_48775_28289_8518_11777_31717_26604...   \n",
       "1  9185_24098_32599_2627_34594 24098_43693_79_184...   \n",
       "2  12341_14444_10441_196_46149_35561 12341_6184_1...   \n",
       "3  46585 48142_3389_31225 31225 31225 35458_17341...   \n",
       "4  27845_23516_23726_23405_43920_32666_13802_4920...   \n",
       "\n",
       "                                           aisle_ids  \\\n",
       "0  29_66_83_123_83_123_16_24_84_83_120 84_12_120_...   \n",
       "1  126_90_11_133_84 90_84_95_112_21_130_72_31_31 ...   \n",
       "2  32_117_117_77_77_107 32_32_117_77_77_117 77_11...   \n",
       "3  30 77_77_43 43 43 93_93_112_43_58_112 45_45 10...   \n",
       "4  84_17_17_17_17_17_36_123_117_117_19 24_123_26_...   \n",
       "\n",
       "                                      department_ids  \\\n",
       "0  13_6_4_4_4_4_4_4_16_4_16 16_9_16_4_4_13_4_19_4...   \n",
       "1  11_7_11_11_16 7_16_15_3_16_14_13_7_7 15_1_1_1_...   \n",
       "2  4_19_19_7_7_19 4_4_19_7_7_19 7_19_7_4_9 4_19_1...   \n",
       "3  6 7_7_3 3 3 3_3_3_3_1_3 19_19 19 19 14_3_9_14 ...   \n",
       "4  16_13_13_13_13_13_16_4_19_19_13 4_4_7_15_4_19_...   \n",
       "\n",
       "                                            reorders eval_set  \n",
       "0  0_0_0_0_0_0_0_0_0_0_0 1_0_1_1_0_0_1_0_0 1_1_0_...    train  \n",
       "1  0_0_0_0_0 1_0_0_0_0_0_0_0_0 1_0_0_0_0_0 1_1_1_...    train  \n",
       "2  0_0_0_0_0_0 1_0_1_1_1_0 1_1_1_0_0 1_1_1_1_0_1_...    train  \n",
       "3  0 0_0_0 1 1 0_0_0_1_0_0 0_0 0 1 0_1_0_0 0 0 0_...    train  \n",
       "4  0_0_0_0_0_0_0_0_0_0_0 0_1_0_0_0_0_0 1_1_1_0_0_...    train  "
      ]
     },
     "execution_count": 25,
     "metadata": {},
     "output_type": "execute_result"
    }
   ],
   "source": [
    "user_data.head()"
   ]
  },
  {
   "cell_type": "code",
   "execution_count": 27,
   "metadata": {
    "collapsed": true
   },
   "outputs": [],
   "source": [
    "user_data.to_csv('../data/processed/user_data.csv', index=False)"
   ]
  },
  {
   "cell_type": "code",
   "execution_count": null,
   "metadata": {
    "collapsed": true
   },
   "outputs": [],
   "source": []
  }
 ],
 "metadata": {
  "kernelspec": {
   "display_name": "Python 3",
   "language": "python",
   "name": "python3"
  },
  "language_info": {
   "codemirror_mode": {
    "name": "ipython",
    "version": 3
   },
   "file_extension": ".py",
   "mimetype": "text/x-python",
   "name": "python",
   "nbconvert_exporter": "python",
   "pygments_lexer": "ipython3",
   "version": "3.5.2"
  },
  "toc": {
   "colors": {
    "hover_highlight": "#DAA520",
    "navigate_num": "#000000",
    "navigate_text": "#333333",
    "running_highlight": "#FF0000",
    "selected_highlight": "#FFD700",
    "sidebar_border": "#EEEEEE",
    "wrapper_background": "#FFFFFF"
   },
   "moveMenuLeft": true,
   "nav_menu": {
    "height": "12px",
    "width": "252px"
   },
   "navigate_menu": true,
   "number_sections": true,
   "sideBar": true,
   "threshold": 4.0,
   "toc_cell": false,
   "toc_section_display": "block",
   "toc_window_display": false,
   "widenNotebook": false
  },
  "varInspector": {
   "cols": {
    "lenName": 16.0,
    "lenType": 16.0,
    "lenVar": 40.0
   },
   "kernels_config": {
    "python": {
     "delete_cmd_postfix": "",
     "delete_cmd_prefix": "del ",
     "library": "var_list.py",
     "varRefreshCmd": "print(var_dic_list())"
    },
    "r": {
     "delete_cmd_postfix": ") ",
     "delete_cmd_prefix": "rm(",
     "library": "var_list.r",
     "varRefreshCmd": "cat(var_dic_list()) "
    }
   },
   "types_to_exclude": [
    "module",
    "function",
    "builtin_function_or_method",
    "instance",
    "_Feature"
   ],
   "window_display": false
  }
 },
 "nbformat": 4,
 "nbformat_minor": 2
}
