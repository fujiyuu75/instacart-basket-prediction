{
 "cells": [
  {
   "cell_type": "code",
   "execution_count": 1,
   "metadata": {
    "collapsed": true
   },
   "outputs": [],
   "source": [
    "import os\n",
    "import pandas as pd"
   ]
  },
  {
   "cell_type": "code",
   "execution_count": 2,
   "metadata": {
    "collapsed": true
   },
   "outputs": [],
   "source": [
    "df = pd.read_csv('../data/processed/user_data.csv')"
   ]
  },
  {
   "cell_type": "code",
   "execution_count": 3,
   "metadata": {
    "collapsed": false
   },
   "outputs": [
    {
     "data": {
      "text/plain": [
       "(20621, 11)"
      ]
     },
     "execution_count": 3,
     "metadata": {},
     "output_type": "execute_result"
    }
   ],
   "source": [
    "df.shape"
   ]
  },
  {
   "cell_type": "code",
   "execution_count": 4,
   "metadata": {
    "collapsed": false
   },
   "outputs": [
    {
     "data": {
      "text/html": [
       "<div>\n",
       "<style>\n",
       "    .dataframe thead tr:only-child th {\n",
       "        text-align: right;\n",
       "    }\n",
       "\n",
       "    .dataframe thead th {\n",
       "        text-align: left;\n",
       "    }\n",
       "\n",
       "    .dataframe tbody tr th {\n",
       "        vertical-align: top;\n",
       "    }\n",
       "</style>\n",
       "<table border=\"1\" class=\"dataframe\">\n",
       "  <thead>\n",
       "    <tr style=\"text-align: right;\">\n",
       "      <th></th>\n",
       "      <th>user_id</th>\n",
       "      <th>order_ids</th>\n",
       "      <th>order_numbers</th>\n",
       "      <th>order_dows</th>\n",
       "      <th>order_hours</th>\n",
       "      <th>days_since_prior_orders</th>\n",
       "      <th>product_ids</th>\n",
       "      <th>aisle_ids</th>\n",
       "      <th>department_ids</th>\n",
       "      <th>reorders</th>\n",
       "      <th>eval_set</th>\n",
       "    </tr>\n",
       "  </thead>\n",
       "  <tbody>\n",
       "    <tr>\n",
       "      <th>0</th>\n",
       "      <td>5</td>\n",
       "      <td>2717275 1909121 2267326 157374 2196797</td>\n",
       "      <td>1 2 3 4 5</td>\n",
       "      <td>3 0 3 1 0</td>\n",
       "      <td>12 16 18 18 11</td>\n",
       "      <td>0 11 10 19 6</td>\n",
       "      <td>15349_21413_48775_28289_8518_11777_31717_26604...</td>\n",
       "      <td>29_66_83_123_83_123_16_24_84_83_120 84_12_120_...</td>\n",
       "      <td>13_6_4_4_4_4_4_4_16_4_16 16_9_16_4_4_13_4_19_4...</td>\n",
       "      <td>0_0_0_0_0_0_0_0_0_0_0 1_0_1_1_0_0_1_0_0 1_1_0_...</td>\n",
       "      <td>train</td>\n",
       "    </tr>\n",
       "    <tr>\n",
       "      <th>1</th>\n",
       "      <td>42</td>\n",
       "      <td>940313 1816335 19190 77399 2848715 1560102 232...</td>\n",
       "      <td>1 2 3 4 5 6 7 8 9 10 11 12 13 14 15 16 17</td>\n",
       "      <td>2 1 1 1 2 1 3 0 3 5 3 2 4 5 0 0 0</td>\n",
       "      <td>10 15 19 9 18 19 13 10 19 1 18 13 12 16 15 13 11</td>\n",
       "      <td>0 6 7 7 8 13 9 11 24 9 19 20 9 22 30 14 14</td>\n",
       "      <td>9185_24098_32599_2627_34594 24098_43693_79_184...</td>\n",
       "      <td>126_90_11_133_84 90_84_95_112_21_130_72_31_31 ...</td>\n",
       "      <td>11_7_11_11_16 7_16_15_3_16_14_13_7_7 15_1_1_1_...</td>\n",
       "      <td>0_0_0_0_0 1_0_0_0_0_0_0_0_0 1_0_0_0_0_0 1_1_1_...</td>\n",
       "      <td>train</td>\n",
       "    </tr>\n",
       "    <tr>\n",
       "      <th>2</th>\n",
       "      <td>52</td>\n",
       "      <td>2497897 1318871 1261384 2100631 580568 1680554...</td>\n",
       "      <td>1 2 3 4 5 6 7 8 9 10 11 12 13 14 15 16 17 18 1...</td>\n",
       "      <td>1 1 1 1 2 1 2 1 1 2 2 1 1 1 2 3 2 2 3 1 5 1 1 ...</td>\n",
       "      <td>9 10 10 11 10 13 7 10 11 10 9 16 10 13 11 11 1...</td>\n",
       "      <td>0 7 7 7 8 6 8 6 7 8 7 6 7 7 8 8 6 14 8 5 30 10...</td>\n",
       "      <td>12341_14444_10441_196_46149_35561 12341_6184_1...</td>\n",
       "      <td>32_117_117_77_77_107 32_32_117_77_77_117 77_11...</td>\n",
       "      <td>4_19_19_7_7_19 4_4_19_7_7_19 7_19_7_4_9 4_19_1...</td>\n",
       "      <td>0_0_0_0_0_0 1_0_1_1_1_0 1_1_1_0_0 1_1_1_1_0_1_...</td>\n",
       "      <td>train</td>\n",
       "    </tr>\n",
       "    <tr>\n",
       "      <th>3</th>\n",
       "      <td>93</td>\n",
       "      <td>2319586 1144929 2482337 1154181 983132 2852868...</td>\n",
       "      <td>1 2 3 4 5 6 7 8 9 10 11 12 13 14 15</td>\n",
       "      <td>3 2 5 6 5 5 6 0 6 0 6 6 4 3 1</td>\n",
       "      <td>8 9 15 9 9 9 13 11 10 12 14 8 12 19 10</td>\n",
       "      <td>0 30 30 1 6 0 1 1 20 8 27 14 5 30 5</td>\n",
       "      <td>46585 48142_3389_31225 31225 31225 35458_17341...</td>\n",
       "      <td>30 77_77_43 43 43 93_93_112_43_58_112 45_45 10...</td>\n",
       "      <td>6 7_7_3 3 3 3_3_3_3_1_3 19_19 19 19 14_3_9_14 ...</td>\n",
       "      <td>0 0_0_0 1 1 0_0_0_1_0_0 0_0 0 1 0_1_0_0 0 0 0_...</td>\n",
       "      <td>train</td>\n",
       "    </tr>\n",
       "    <tr>\n",
       "      <th>4</th>\n",
       "      <td>99</td>\n",
       "      <td>2736359 465262 2872285 828701 2216860 1262038 ...</td>\n",
       "      <td>1 2 3 4 5 6 7 8 9 10 11 12 13 14 15 16 17 18 19</td>\n",
       "      <td>4 4 0 2 1 3 2 3 2 0 5 3 4 4 5 5 0 1 2</td>\n",
       "      <td>15 13 17 13 11 13 12 15 20 16 10 15 16 16 10 1...</td>\n",
       "      <td>0 14 24 23 13 23 13 29 30 12 26 12 15 21 8 7 2...</td>\n",
       "      <td>27845_23516_23726_23405_43920_32666_13802_4920...</td>\n",
       "      <td>84_17_17_17_17_17_36_123_117_117_19 24_123_26_...</td>\n",
       "      <td>16_13_13_13_13_13_16_4_19_19_13 4_4_7_15_4_19_...</td>\n",
       "      <td>0_0_0_0_0_0_0_0_0_0_0 0_1_0_0_0_0_0 1_1_1_0_0_...</td>\n",
       "      <td>train</td>\n",
       "    </tr>\n",
       "  </tbody>\n",
       "</table>\n",
       "</div>"
      ],
      "text/plain": [
       "   user_id                                          order_ids  \\\n",
       "0        5             2717275 1909121 2267326 157374 2196797   \n",
       "1       42  940313 1816335 19190 77399 2848715 1560102 232...   \n",
       "2       52  2497897 1318871 1261384 2100631 580568 1680554...   \n",
       "3       93  2319586 1144929 2482337 1154181 983132 2852868...   \n",
       "4       99  2736359 465262 2872285 828701 2216860 1262038 ...   \n",
       "\n",
       "                                       order_numbers  \\\n",
       "0                                          1 2 3 4 5   \n",
       "1          1 2 3 4 5 6 7 8 9 10 11 12 13 14 15 16 17   \n",
       "2  1 2 3 4 5 6 7 8 9 10 11 12 13 14 15 16 17 18 1...   \n",
       "3                1 2 3 4 5 6 7 8 9 10 11 12 13 14 15   \n",
       "4    1 2 3 4 5 6 7 8 9 10 11 12 13 14 15 16 17 18 19   \n",
       "\n",
       "                                          order_dows  \\\n",
       "0                                          3 0 3 1 0   \n",
       "1                  2 1 1 1 2 1 3 0 3 5 3 2 4 5 0 0 0   \n",
       "2  1 1 1 1 2 1 2 1 1 2 2 1 1 1 2 3 2 2 3 1 5 1 1 ...   \n",
       "3                      3 2 5 6 5 5 6 0 6 0 6 6 4 3 1   \n",
       "4              4 4 0 2 1 3 2 3 2 0 5 3 4 4 5 5 0 1 2   \n",
       "\n",
       "                                         order_hours  \\\n",
       "0                                     12 16 18 18 11   \n",
       "1   10 15 19 9 18 19 13 10 19 1 18 13 12 16 15 13 11   \n",
       "2  9 10 10 11 10 13 7 10 11 10 9 16 10 13 11 11 1...   \n",
       "3             8 9 15 9 9 9 13 11 10 12 14 8 12 19 10   \n",
       "4  15 13 17 13 11 13 12 15 20 16 10 15 16 16 10 1...   \n",
       "\n",
       "                             days_since_prior_orders  \\\n",
       "0                                       0 11 10 19 6   \n",
       "1         0 6 7 7 8 13 9 11 24 9 19 20 9 22 30 14 14   \n",
       "2  0 7 7 7 8 6 8 6 7 8 7 6 7 7 8 8 6 14 8 5 30 10...   \n",
       "3                0 30 30 1 6 0 1 1 20 8 27 14 5 30 5   \n",
       "4  0 14 24 23 13 23 13 29 30 12 26 12 15 21 8 7 2...   \n",
       "\n",
       "                                         product_ids  \\\n",
       "0  15349_21413_48775_28289_8518_11777_31717_26604...   \n",
       "1  9185_24098_32599_2627_34594 24098_43693_79_184...   \n",
       "2  12341_14444_10441_196_46149_35561 12341_6184_1...   \n",
       "3  46585 48142_3389_31225 31225 31225 35458_17341...   \n",
       "4  27845_23516_23726_23405_43920_32666_13802_4920...   \n",
       "\n",
       "                                           aisle_ids  \\\n",
       "0  29_66_83_123_83_123_16_24_84_83_120 84_12_120_...   \n",
       "1  126_90_11_133_84 90_84_95_112_21_130_72_31_31 ...   \n",
       "2  32_117_117_77_77_107 32_32_117_77_77_117 77_11...   \n",
       "3  30 77_77_43 43 43 93_93_112_43_58_112 45_45 10...   \n",
       "4  84_17_17_17_17_17_36_123_117_117_19 24_123_26_...   \n",
       "\n",
       "                                      department_ids  \\\n",
       "0  13_6_4_4_4_4_4_4_16_4_16 16_9_16_4_4_13_4_19_4...   \n",
       "1  11_7_11_11_16 7_16_15_3_16_14_13_7_7 15_1_1_1_...   \n",
       "2  4_19_19_7_7_19 4_4_19_7_7_19 7_19_7_4_9 4_19_1...   \n",
       "3  6 7_7_3 3 3 3_3_3_3_1_3 19_19 19 19 14_3_9_14 ...   \n",
       "4  16_13_13_13_13_13_16_4_19_19_13 4_4_7_15_4_19_...   \n",
       "\n",
       "                                            reorders eval_set  \n",
       "0  0_0_0_0_0_0_0_0_0_0_0 1_0_1_1_0_0_1_0_0 1_1_0_...    train  \n",
       "1  0_0_0_0_0 1_0_0_0_0_0_0_0_0 1_0_0_0_0_0 1_1_1_...    train  \n",
       "2  0_0_0_0_0_0 1_0_1_1_1_0 1_1_1_0_0 1_1_1_1_0_1_...    train  \n",
       "3  0 0_0_0 1 1 0_0_0_1_0_0 0_0 0 1 0_1_0_0 0 0 0_...    train  \n",
       "4  0_0_0_0_0_0_0_0_0_0_0 0_1_0_0_0_0_0 1_1_1_0_0_...    train  "
      ]
     },
     "execution_count": 4,
     "metadata": {},
     "output_type": "execute_result"
    }
   ],
   "source": [
    "df.head()"
   ]
  },
  {
   "cell_type": "code",
   "execution_count": 5,
   "metadata": {
    "collapsed": true
   },
   "outputs": [],
   "source": [
    "products = pd.read_csv('../data/raw/products.csv')"
   ]
  },
  {
   "cell_type": "code",
   "execution_count": 6,
   "metadata": {
    "collapsed": false
   },
   "outputs": [
    {
     "data": {
      "text/html": [
       "<div>\n",
       "<style>\n",
       "    .dataframe thead tr:only-child th {\n",
       "        text-align: right;\n",
       "    }\n",
       "\n",
       "    .dataframe thead th {\n",
       "        text-align: left;\n",
       "    }\n",
       "\n",
       "    .dataframe tbody tr th {\n",
       "        vertical-align: top;\n",
       "    }\n",
       "</style>\n",
       "<table border=\"1\" class=\"dataframe\">\n",
       "  <thead>\n",
       "    <tr style=\"text-align: right;\">\n",
       "      <th></th>\n",
       "      <th>product_id</th>\n",
       "      <th>product_name</th>\n",
       "      <th>aisle_id</th>\n",
       "      <th>department_id</th>\n",
       "    </tr>\n",
       "  </thead>\n",
       "  <tbody>\n",
       "    <tr>\n",
       "      <th>0</th>\n",
       "      <td>1</td>\n",
       "      <td>Chocolate Sandwich Cookies</td>\n",
       "      <td>61</td>\n",
       "      <td>19</td>\n",
       "    </tr>\n",
       "    <tr>\n",
       "      <th>1</th>\n",
       "      <td>2</td>\n",
       "      <td>All-Seasons Salt</td>\n",
       "      <td>104</td>\n",
       "      <td>13</td>\n",
       "    </tr>\n",
       "    <tr>\n",
       "      <th>2</th>\n",
       "      <td>3</td>\n",
       "      <td>Robust Golden Unsweetened Oolong Tea</td>\n",
       "      <td>94</td>\n",
       "      <td>7</td>\n",
       "    </tr>\n",
       "    <tr>\n",
       "      <th>3</th>\n",
       "      <td>4</td>\n",
       "      <td>Smart Ones Classic Favorites Mini Rigatoni Wit...</td>\n",
       "      <td>38</td>\n",
       "      <td>1</td>\n",
       "    </tr>\n",
       "    <tr>\n",
       "      <th>4</th>\n",
       "      <td>5</td>\n",
       "      <td>Green Chile Anytime Sauce</td>\n",
       "      <td>5</td>\n",
       "      <td>13</td>\n",
       "    </tr>\n",
       "  </tbody>\n",
       "</table>\n",
       "</div>"
      ],
      "text/plain": [
       "   product_id                                       product_name  aisle_id  \\\n",
       "0           1                         Chocolate Sandwich Cookies        61   \n",
       "1           2                                   All-Seasons Salt       104   \n",
       "2           3               Robust Golden Unsweetened Oolong Tea        94   \n",
       "3           4  Smart Ones Classic Favorites Mini Rigatoni Wit...        38   \n",
       "4           5                          Green Chile Anytime Sauce         5   \n",
       "\n",
       "   department_id  \n",
       "0             19  \n",
       "1             13  \n",
       "2              7  \n",
       "3              1  \n",
       "4             13  "
      ]
     },
     "execution_count": 6,
     "metadata": {},
     "output_type": "execute_result"
    }
   ],
   "source": [
    "products.head()"
   ]
  },
  {
   "cell_type": "code",
   "execution_count": 7,
   "metadata": {
    "collapsed": false
   },
   "outputs": [
    {
     "data": {
      "text/plain": [
       "(49688, 4)"
      ]
     },
     "execution_count": 7,
     "metadata": {},
     "output_type": "execute_result"
    }
   ],
   "source": [
    "products.shape"
   ]
  },
  {
   "cell_type": "code",
   "execution_count": 8,
   "metadata": {
    "collapsed": true
   },
   "outputs": [],
   "source": [
    "product_to_aisle = dict(zip(products['product_id'], products['aisle_id']))\n",
    "product_to_department = dict(zip(products['product_id'], products['department_id']))\n",
    "product_to_name = dict(zip(products['product_id'], products['product_name']))"
   ]
  },
  {
   "cell_type": "code",
   "execution_count": 12,
   "metadata": {
    "collapsed": false
   },
   "outputs": [
    {
     "data": {
      "text/plain": [
       "61"
      ]
     },
     "execution_count": 12,
     "metadata": {},
     "output_type": "execute_result"
    }
   ],
   "source": [
    "product_to_aisle[1]"
   ]
  },
  {
   "cell_type": "code",
   "execution_count": 13,
   "metadata": {
    "collapsed": true
   },
   "outputs": [],
   "source": [
    "user_ids = []\n",
    "product_ids = []\n",
    "aisle_ids = []\n",
    "department_ids = []\n",
    "product_names = []\n",
    "eval_sets = []"
   ]
  },
  {
   "cell_type": "code",
   "execution_count": 14,
   "metadata": {
    "collapsed": true
   },
   "outputs": [],
   "source": [
    "is_ordered_histories = []\n",
    "index_in_order_histories = []\n",
    "order_size_histories = []\n",
    "reorder_size_histories = []\n",
    "order_dow_histories = []\n",
    "order_hour_histories = []\n",
    "days_since_prior_order_histories = []\n",
    "order_number_histories = []"
   ]
  },
  {
   "cell_type": "code",
   "execution_count": 15,
   "metadata": {
    "collapsed": true
   },
   "outputs": [],
   "source": [
    "labels = []"
   ]
  },
  {
   "cell_type": "code",
   "execution_count": 16,
   "metadata": {
    "collapsed": true
   },
   "outputs": [],
   "source": [
    "longest = 0"
   ]
  },
  {
   "cell_type": "code",
   "execution_count": 17,
   "metadata": {
    "collapsed": true
   },
   "outputs": [],
   "source": [
    "for _, row in df.iterrows():\n",
    "    _, row\n",
    "    break"
   ]
  },
  {
   "cell_type": "code",
   "execution_count": 21,
   "metadata": {
    "collapsed": false
   },
   "outputs": [
    {
     "data": {
      "text/plain": [
       "0"
      ]
     },
     "execution_count": 21,
     "metadata": {},
     "output_type": "execute_result"
    }
   ],
   "source": [
    "_"
   ]
  },
  {
   "cell_type": "code",
   "execution_count": 19,
   "metadata": {
    "collapsed": false
   },
   "outputs": [
    {
     "data": {
      "text/plain": [
       "user_id                                                                    5\n",
       "order_ids                             2717275 1909121 2267326 157374 2196797\n",
       "order_numbers                                                      1 2 3 4 5\n",
       "order_dows                                                         3 0 3 1 0\n",
       "order_hours                                                   12 16 18 18 11\n",
       "days_since_prior_orders                                         0 11 10 19 6\n",
       "product_ids                15349_21413_48775_28289_8518_11777_31717_26604...\n",
       "aisle_ids                  29_66_83_123_83_123_16_24_84_83_120 84_12_120_...\n",
       "department_ids             13_6_4_4_4_4_4_4_16_4_16 16_9_16_4_4_13_4_19_4...\n",
       "reorders                   0_0_0_0_0_0_0_0_0_0_0 1_0_1_1_0_0_1_0_0 1_1_0_...\n",
       "eval_set                                                               train\n",
       "Name: 0, dtype: object"
      ]
     },
     "execution_count": 19,
     "metadata": {},
     "output_type": "execute_result"
    }
   ],
   "source": [
    "row"
   ]
  },
  {
   "cell_type": "code",
   "execution_count": 22,
   "metadata": {
    "collapsed": true
   },
   "outputs": [],
   "source": [
    "user_id = row['user_id']\n",
    "eval_set = row['eval_set']\n",
    "products = row['product_ids']"
   ]
  },
  {
   "cell_type": "code",
   "execution_count": 23,
   "metadata": {
    "collapsed": true
   },
   "outputs": [],
   "source": [
    "products, next_products = ' '.join(products.split()[:-1]), products.split()[-1]"
   ]
  },
  {
   "cell_type": "code",
   "execution_count": 24,
   "metadata": {
    "collapsed": false
   },
   "outputs": [
    {
     "data": {
      "text/plain": [
       "'15349_21413_48775_28289_8518_11777_31717_26604_43693_22475_24535 43693_6808_24535_11777_21616_18761_26604_13870_13988 26604_11777_20754_24231_40706 27344_24535_43693_40706_16168_21413_13988_3376_8518_26604_11777_5999'"
      ]
     },
     "execution_count": 24,
     "metadata": {},
     "output_type": "execute_result"
    }
   ],
   "source": [
    "products"
   ]
  },
  {
   "cell_type": "code",
   "execution_count": 25,
   "metadata": {
    "collapsed": false
   },
   "outputs": [
    {
     "data": {
      "text/plain": [
       "'15349_19057_16185_21413_20843_20114_48204_40706_21616'"
      ]
     },
     "execution_count": 25,
     "metadata": {},
     "output_type": "execute_result"
    }
   ],
   "source": [
    "next_products"
   ]
  },
  {
   "cell_type": "code",
   "execution_count": 26,
   "metadata": {
    "collapsed": true
   },
   "outputs": [],
   "source": [
    "reorders = row['reorders']\n",
    "reorders, next_reorders = ' '.join(reorders.split()[:-1]), reorders.split()[-1]"
   ]
  },
  {
   "cell_type": "code",
   "execution_count": null,
   "metadata": {
    "collapsed": true
   },
   "outputs": [],
   "source": []
  },
  {
   "cell_type": "code",
   "execution_count": null,
   "metadata": {
    "collapsed": true
   },
   "outputs": [],
   "source": []
  }
 ],
 "metadata": {
  "kernelspec": {
   "display_name": "Python 3",
   "language": "python",
   "name": "python3"
  },
  "language_info": {
   "codemirror_mode": {
    "name": "ipython",
    "version": 3
   },
   "file_extension": ".py",
   "mimetype": "text/x-python",
   "name": "python",
   "nbconvert_exporter": "python",
   "pygments_lexer": "ipython3",
   "version": "3.5.2"
  },
  "toc": {
   "colors": {
    "hover_highlight": "#DAA520",
    "navigate_num": "#000000",
    "navigate_text": "#333333",
    "running_highlight": "#FF0000",
    "selected_highlight": "#FFD700",
    "sidebar_border": "#EEEEEE",
    "wrapper_background": "#FFFFFF"
   },
   "moveMenuLeft": true,
   "nav_menu": {
    "height": "4px",
    "width": "254px"
   },
   "navigate_menu": true,
   "number_sections": true,
   "sideBar": true,
   "threshold": 4,
   "toc_cell": false,
   "toc_section_display": "block",
   "toc_window_display": false,
   "widenNotebook": false
  },
  "varInspector": {
   "cols": {
    "lenName": 16,
    "lenType": 16,
    "lenVar": 40
   },
   "kernels_config": {
    "python": {
     "delete_cmd_postfix": "",
     "delete_cmd_prefix": "del ",
     "library": "var_list.py",
     "varRefreshCmd": "print(var_dic_list())"
    },
    "r": {
     "delete_cmd_postfix": ") ",
     "delete_cmd_prefix": "rm(",
     "library": "var_list.r",
     "varRefreshCmd": "cat(var_dic_list()) "
    }
   },
   "types_to_exclude": [
    "module",
    "function",
    "builtin_function_or_method",
    "instance",
    "_Feature"
   ],
   "window_display": false
  }
 },
 "nbformat": 4,
 "nbformat_minor": 2
}
